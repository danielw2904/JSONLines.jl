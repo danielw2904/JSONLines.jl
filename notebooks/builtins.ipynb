{
 "cells": [
  {
   "cell_type": "code",
   "execution_count": 1,
   "metadata": {},
   "outputs": [
    {
     "name": "stderr",
     "output_type": "stream",
     "text": [
      "\u001b[32m\u001b[1m Activating\u001b[22m\u001b[39m environment at `~/Documents/juliaPkgs/JSONLines/notebooks/Project.toml`\n"
     ]
    },
    {
     "name": "stdout",
     "output_type": "stream",
     "text": [
      "\u001b[?25l\u001b[2K\u001b[?25h"
     ]
    },
    {
     "name": "stderr",
     "output_type": "stream",
     "text": [
      "\u001b[32m\u001b[1m   Updating\u001b[22m\u001b[39m git-repo `/home/daniel/Documents/juliaPkgs/JSONLines`\n",
      "\u001b[32m\u001b[1m   Updating\u001b[22m\u001b[39m registry at `~/.julia/registries/General`\n"
     ]
    },
    {
     "name": "stdout",
     "output_type": "stream",
     "text": [
      "\u001b[?25l\u001b[2K"
     ]
    },
    {
     "name": "stderr",
     "output_type": "stream",
     "text": [
      "\u001b[32m\u001b[1m   Updating\u001b[22m\u001b[39m git-repo `https://github.com/JuliaRegistries/General.git`\n"
     ]
    },
    {
     "name": "stdout",
     "output_type": "stream",
     "text": [
      "\u001b[?25h"
     ]
    },
    {
     "name": "stderr",
     "output_type": "stream",
     "text": [
      "\u001b[32m\u001b[1m  Resolving\u001b[22m\u001b[39m package versions...\n",
      "\u001b[32m\u001b[1mUpdating\u001b[22m\u001b[39m `~/Documents/juliaPkgs/JSONLines/notebooks/Project.toml`\n",
      " \u001b[90m [24c2b838] \u001b[39m\u001b[92m+ JSONLines v1.2.0 `..#refactor`\u001b[39m\n",
      "\u001b[32m\u001b[1mUpdating\u001b[22m\u001b[39m `~/Documents/juliaPkgs/JSONLines/notebooks/Manifest.toml`\n",
      " \u001b[90m [0f8b85d8] \u001b[39m\u001b[92m+ JSON3 v1.1.1\u001b[39m\n",
      " \u001b[90m [24c2b838] \u001b[39m\u001b[92m+ JSONLines v1.2.0 `..#refactor`\u001b[39m\n",
      " \u001b[90m [856f2bd8] \u001b[39m\u001b[92m+ StructTypes v1.1.0\u001b[39m\n"
     ]
    }
   ],
   "source": [
    "using Pkg;Pkg.activate(\".\")\n",
    "#Pkg.add.([\"OnlineStats\", \"VegaDatasets\", \"DataFrames\"])\n",
    "Pkg.add(path=\"../\")"
   ]
  },
  {
   "cell_type": "code",
   "execution_count": 6,
   "metadata": {},
   "outputs": [
    {
     "name": "stderr",
     "output_type": "stream",
     "text": [
      "\u001b[32m\u001b[1mUpdating\u001b[22m\u001b[39m `~/Documents/juliaPkgs/JSONLines/notebooks/Project.toml`\n",
      " \u001b[90m [24c2b838] \u001b[39m\u001b[91m- JSONLines v1.2.0 `..#refactor`\u001b[39m\n",
      "\u001b[32m\u001b[1mUpdating\u001b[22m\u001b[39m `~/Documents/juliaPkgs/JSONLines/notebooks/Manifest.toml`\n",
      " \u001b[90m [0f8b85d8] \u001b[39m\u001b[91m- JSON3 v1.1.1\u001b[39m\n",
      " \u001b[90m [24c2b838] \u001b[39m\u001b[91m- JSONLines v1.2.0 `..#refactor`\u001b[39m\n",
      " \u001b[90m [856f2bd8] \u001b[39m\u001b[91m- StructTypes v1.1.0\u001b[39m\n"
     ]
    }
   ],
   "source": [
    "#Pkg.rm(\"JSONLines\")"
   ]
  },
  {
   "cell_type": "code",
   "execution_count": 2,
   "metadata": {},
   "outputs": [],
   "source": [
    "using JSONLines, OnlineStats, VegaDatasets, DataFrames"
   ]
  },
  {
   "cell_type": "markdown",
   "metadata": {},
   "source": [
    "# Get some JSONLines data"
   ]
  },
  {
   "cell_type": "code",
   "execution_count": 4,
   "metadata": {},
   "outputs": [],
   "source": [
    "flights = dataset(\"flights-200k\");"
   ]
  },
  {
   "cell_type": "code",
   "execution_count": 5,
   "metadata": {},
   "outputs": [],
   "source": [
    "writelines(\"data/flights-200k.jsonl\", flights)"
   ]
  },
  {
   "cell_type": "markdown",
   "metadata": {},
   "source": [
    "# Read back in"
   ]
  },
  {
   "cell_type": "code",
   "execution_count": 3,
   "metadata": {},
   "outputs": [],
   "source": [
    "flightsind = LineIndex(\"data/flights-200k.jsonl\", nworkers = 4);"
   ]
  },
  {
   "cell_type": "code",
   "execution_count": 7,
   "metadata": {},
   "outputs": [],
   "source": [
    "@assert flightsind |> Tables.rowtable == flights |> Tables.rowtable"
   ]
  },
  {
   "cell_type": "markdown",
   "metadata": {},
   "source": [
    "# JSONLines functions"
   ]
  },
  {
   "cell_type": "code",
   "execution_count": 8,
   "metadata": {},
   "outputs": [],
   "source": [
    "Base.displaysize() = (11, 80)"
   ]
  },
  {
   "cell_type": "code",
   "execution_count": 9,
   "metadata": {},
   "outputs": [
    {
     "data": {
      "text/plain": [
       "231083-element Array{NamedTuple{(:distance, :time, :delay),T} where T<:Tuple,1}:\n",
       " (distance = 405, time = 0.016666666666666666, delay = 14)\n",
       " (distance = 370, time = 5.5, delay = -11)\n",
       " (distance = 389, time = 5.666666666666667, delay = 5)\n",
       " ⋮\n",
       " (distance = 443, time = 22.616666666666667, delay = 106)\n",
       " (distance = 880, time = 22.8, delay = 125)\n",
       " (distance = 303, time = 22.95, delay = 29)"
      ]
     },
     "execution_count": 9,
     "metadata": {},
     "output_type": "execute_result"
    }
   ],
   "source": [
    "materialize(flightsind)"
   ]
  },
  {
   "cell_type": "code",
   "execution_count": 10,
   "metadata": {},
   "outputs": [
    {
     "data": {
      "text/plain": [
       "231083-element Array{Int64,1}:\n",
       " 405\n",
       " 370\n",
       " 389\n",
       "   ⋮\n",
       " 443\n",
       " 880\n",
       " 303"
      ]
     },
     "execution_count": 10,
     "metadata": {},
     "output_type": "execute_result"
    }
   ],
   "source": [
    "materialize(flightsind, row -> row[:distance]; eltype = Int)"
   ]
  },
  {
   "cell_type": "code",
   "execution_count": 11,
   "metadata": {},
   "outputs": [
    {
     "data": {
      "text/plain": [
       "231083-element Array{NamedTuple{(:distance, :time),Tuple{Int64,Float64}},1}:\n",
       " (distance = 405, time = 0.016666666666666666)\n",
       " (distance = 370, time = 5.5)\n",
       " (distance = 389, time = 5.666666666666667)\n",
       " ⋮\n",
       " (distance = 443, time = 22.616666666666667)\n",
       " (distance = 880, time = 22.8)\n",
       " (distance = 303, time = 22.95)"
      ]
     },
     "execution_count": 11,
     "metadata": {},
     "output_type": "execute_result"
    }
   ],
   "source": [
    "materialize(flightsind, row -> (;zip((:distance, :time), (row[:distance], row[:time]))...); eltype = NamedTuple{(:distance, :time), Tuple{Int, Float64}})"
   ]
  },
  {
   "cell_type": "code",
   "execution_count": 5,
   "metadata": {},
   "outputs": [
    {
     "ename": "LoadError",
     "evalue": "MethodError: no method matching filter(::var\"#9#10\", ::LineIndex{JSON3.Object{SubArray{UInt8,1,Array{UInt8,1},Tuple{UnitRange{Int64}},true},Array{UInt64,1}}})\nClosest candidates are:\n  filter(::Function, !Matched::DataStructures.LinkedList{T}) where T at /home/daniel/.julia/packages/DataStructures/DLSxi/src/list.jl:81\n  filter(::Function, !Matched::DataStructures.MutableLinkedList{T}) where T at /home/daniel/.julia/packages/DataStructures/DLSxi/src/mutable_list.jl:92\n  filter(::Any, !Matched::Tuple{Any,Any,Any,Any,Any,Any,Any,Any,Any,Any,Any,Any,Any,Any,Any,Any,Vararg{Any,N}} where N) at tuple.jl:267\n  ...",
     "output_type": "error",
     "traceback": [
      "MethodError: no method matching filter(::var\"#9#10\", ::LineIndex{JSON3.Object{SubArray{UInt8,1,Array{UInt8,1},Tuple{UnitRange{Int64}},true},Array{UInt64,1}}})\nClosest candidates are:\n  filter(::Function, !Matched::DataStructures.LinkedList{T}) where T at /home/daniel/.julia/packages/DataStructures/DLSxi/src/list.jl:81\n  filter(::Function, !Matched::DataStructures.MutableLinkedList{T}) where T at /home/daniel/.julia/packages/DataStructures/DLSxi/src/mutable_list.jl:92\n  filter(::Any, !Matched::Tuple{Any,Any,Any,Any,Any,Any,Any,Any,Any,Any,Any,Any,Any,Any,Any,Any,Vararg{Any,N}} where N) at tuple.jl:267\n  ...",
      "",
      "Stacktrace:",
      " [1] top-level scope at In[5]:1",
      " [2] include_string(::Function, ::Module, ::String, ::String) at ./loading.jl:1091"
     ]
    }
   ],
   "source": [
    "JSONLines.filter(row -> row[:distance] > 400, flightsind)"
   ]
  },
  {
   "cell_type": "code",
   "execution_count": null,
   "metadata": {},
   "outputs": [],
   "source": [
    "s = Series(Mean(), Variance())"
   ]
  },
  {
   "cell_type": "code",
   "execution_count": null,
   "metadata": {},
   "outputs": [],
   "source": [
    "for row in mtcars\n",
    "    fit!(s, row[:mpg])\n",
    "end"
   ]
  },
  {
   "cell_type": "code",
   "execution_count": null,
   "metadata": {},
   "outputs": [],
   "source": [
    "s"
   ]
  },
  {
   "cell_type": "code",
   "execution_count": null,
   "metadata": {},
   "outputs": [],
   "source": [
    "c = CovMatrix()"
   ]
  },
  {
   "cell_type": "code",
   "execution_count": null,
   "metadata": {},
   "outputs": [],
   "source": [
    "for row in mtcars\n",
    "    fit!(c, zip(row[:mpg], row[:cyl]))\n",
    "end"
   ]
  },
  {
   "cell_type": "code",
   "execution_count": null,
   "metadata": {},
   "outputs": [],
   "source": [
    "c"
   ]
  },
  {
   "cell_type": "code",
   "execution_count": null,
   "metadata": {},
   "outputs": [],
   "source": [
    "Vector{Int}(undef, 0)"
   ]
  },
  {
   "cell_type": "code",
   "execution_count": null,
   "metadata": {},
   "outputs": [],
   "source": []
  }
 ],
 "metadata": {
  "kernelspec": {
   "display_name": "Julia 1.5.0",
   "language": "julia",
   "name": "julia-1.5"
  },
  "language_info": {
   "file_extension": ".jl",
   "mimetype": "application/julia",
   "name": "julia",
   "version": "1.5.0"
  }
 },
 "nbformat": 4,
 "nbformat_minor": 4
}
