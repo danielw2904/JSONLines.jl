{
 "cells": [
  {
   "cell_type": "code",
   "execution_count": 1,
   "metadata": {},
   "outputs": [
    {
     "name": "stderr",
     "output_type": "stream",
     "text": [
      "\u001b[32m\u001b[1m Activating\u001b[22m\u001b[39m environment at `~/Documents/juliaPkgs/JSONLines/notebooks/Project.toml`\n"
     ]
    }
   ],
   "source": [
    "using Pkg;Pkg.activate(\".\")\n",
    "#Pkg.add.([\"OnlineStats\", \"VegaDatasets\", \"DataFrames\"])\n",
    "#Pkg.add(path=\"../\")"
   ]
  },
  {
   "cell_type": "code",
   "execution_count": 41,
   "metadata": {},
   "outputs": [],
   "source": [
    "using JSONLines, OnlineStats, VegaDatasets, DataFrames, Statistics"
   ]
  },
  {
   "cell_type": "markdown",
   "metadata": {},
   "source": [
    "# Get some JSONLines data"
   ]
  },
  {
   "cell_type": "code",
   "execution_count": 3,
   "metadata": {},
   "outputs": [],
   "source": [
    "flights = dataset(\"flights-200k\");"
   ]
  },
  {
   "cell_type": "code",
   "execution_count": 4,
   "metadata": {},
   "outputs": [],
   "source": [
    "writelines(\"data/flights-200k.jsonl\", flights)"
   ]
  },
  {
   "cell_type": "markdown",
   "metadata": {},
   "source": [
    "# Read back in"
   ]
  },
  {
   "cell_type": "code",
   "execution_count": 5,
   "metadata": {},
   "outputs": [],
   "source": [
    "flightsind = LineIndex(\"data/flights-200k.jsonl\", nworkers = 4);"
   ]
  },
  {
   "cell_type": "code",
   "execution_count": 6,
   "metadata": {},
   "outputs": [],
   "source": [
    "@assert flightsind |> Tables.rowtable == flights |> Tables.rowtable"
   ]
  },
  {
   "cell_type": "markdown",
   "metadata": {},
   "source": [
    "# JSONLines functions"
   ]
  },
  {
   "cell_type": "code",
   "execution_count": 7,
   "metadata": {},
   "outputs": [],
   "source": [
    "Base.displaysize() = (11, 80)"
   ]
  },
  {
   "cell_type": "code",
   "execution_count": 8,
   "metadata": {},
   "outputs": [
    {
     "data": {
      "text/plain": [
       "231083-element Array{NamedTuple{(:distance, :time, :delay),T} where T<:Tuple,1}:\n",
       " (distance = 405, time = 0.016666666666666666, delay = 14)\n",
       " (distance = 370, time = 5.5, delay = -11)\n",
       " (distance = 389, time = 5.666666666666667, delay = 5)\n",
       " ⋮\n",
       " (distance = 443, time = 22.616666666666667, delay = 106)\n",
       " (distance = 880, time = 22.8, delay = 125)\n",
       " (distance = 303, time = 22.95, delay = 29)"
      ]
     },
     "execution_count": 8,
     "metadata": {},
     "output_type": "execute_result"
    }
   ],
   "source": [
    "materialize(flightsind)"
   ]
  },
  {
   "cell_type": "code",
   "execution_count": 9,
   "metadata": {},
   "outputs": [
    {
     "data": {
      "text/plain": [
       "231083-element Array{Int64,1}:\n",
       " 405\n",
       " 370\n",
       " 389\n",
       "   ⋮\n",
       " 443\n",
       " 880\n",
       " 303"
      ]
     },
     "execution_count": 9,
     "metadata": {},
     "output_type": "execute_result"
    }
   ],
   "source": [
    "materialize(flightsind, row -> row[:distance]; eltype = Int)"
   ]
  },
  {
   "cell_type": "code",
   "execution_count": 10,
   "metadata": {},
   "outputs": [
    {
     "data": {
      "text/plain": [
       "231083-element Array{NamedTuple{(:distance, :time),Tuple{Int64,Float64}},1}:\n",
       " (distance = 405, time = 0.016666666666666666)\n",
       " (distance = 370, time = 5.5)\n",
       " (distance = 389, time = 5.666666666666667)\n",
       " ⋮\n",
       " (distance = 443, time = 22.616666666666667)\n",
       " (distance = 880, time = 22.8)\n",
       " (distance = 303, time = 22.95)"
      ]
     },
     "execution_count": 10,
     "metadata": {},
     "output_type": "execute_result"
    }
   ],
   "source": [
    "materialize(flightsind, row -> (;zip((:distance, :time), (row[:distance], row[:time]))...); eltype = NamedTuple{(:distance, :time), Tuple{Int, Float64}})"
   ]
  },
  {
   "cell_type": "code",
   "execution_count": 11,
   "metadata": {},
   "outputs": [
    {
     "data": {
      "text/plain": [
       "102497-element Array{JSON3.Object{SubArray{UInt8,1,Array{UInt8,1},Tuple{UnitRange{Int64}},true},Array{UInt64,1}},1}:\n",
       " {\n",
       "   \"distance\": 405,\n",
       "       \"time\": 0.016666666666666666,\n",
       "      \"delay\": 14\n",
       "}\n",
       " {\n",
       "   \"distance\": 405,\n",
       "       \"time\": 6.166666666666667,\n",
       "      \"delay\": -4\n",
       "}\n",
       " {\n",
       "   \"distance\": 562,\n",
       "       \"time\": 6.25,\n",
       "      \"delay\": 5\n",
       "}\n",
       " ⋮\n",
       " {\n",
       "   \"distance\": 423,\n",
       "       \"time\": 22.166666666666668,\n",
       "      \"delay\": -7\n",
       "}\n",
       " {\n",
       "   \"distance\": 443,\n",
       "       \"time\": 22.616666666666667,\n",
       "      \"delay\": 106\n",
       "}\n",
       " {\n",
       "   \"distance\": 880,\n",
       "       \"time\": 22.8,\n",
       "      \"delay\": 125\n",
       "}"
      ]
     },
     "execution_count": 11,
     "metadata": {},
     "output_type": "execute_result"
    }
   ],
   "source": [
    "filter(row -> row[:distance] > 400, flightsind)"
   ]
  },
  {
   "cell_type": "code",
   "execution_count": 27,
   "metadata": {},
   "outputs": [
    {
     "data": {
      "text/plain": [
       "(delay = [14, -11, 5, -5, 3, 5, -4, -2, 0, 0  …  153, -5, 70, -16, -7, -7, -8, 106, 125, 29], distance = [405, 370, 389, 337, 303, 236, 405, 188, 197, 399  …  342, 588, 550, 550, 303, 423, 303, 443, 880, 303], time = [0.016666666666666666, 5.5, 5.666666666666667, 6.0, 6.0, 6.083333333333333, 6.166666666666667, 6.25, 6.25, 6.25  …  21.583333333333332, 21.75, 21.85, 21.916666666666668, 22.0, 22.166666666666668, 22.5, 22.616666666666667, 22.8, 22.95])"
      ]
     },
     "execution_count": 27,
     "metadata": {},
     "output_type": "execute_result"
    }
   ],
   "source": [
    "flightscol = columnwise(flightsind)"
   ]
  },
  {
   "cell_type": "code",
   "execution_count": 28,
   "metadata": {},
   "outputs": [
    {
     "data": {
      "text/html": [
       "<table class=\"data-frame\"><thead><tr><th></th><th>delay</th><th>distance</th><th>time</th></tr><tr><th></th><th>Int64</th><th>Int64</th><th>Float64</th></tr></thead><tbody><p>231,083 rows × 3 columns</p><tr><th>1</th><td>14</td><td>405</td><td>0.0166667</td></tr><tr><th>2</th><td>-11</td><td>370</td><td>5.5</td></tr><tr><th>3</th><td>5</td><td>389</td><td>5.66667</td></tr><tr><th>4</th><td>-5</td><td>337</td><td>6.0</td></tr><tr><th>5</th><td>3</td><td>303</td><td>6.0</td></tr><tr><th>6</th><td>5</td><td>236</td><td>6.08333</td></tr><tr><th>7</th><td>-4</td><td>405</td><td>6.16667</td></tr><tr><th>8</th><td>-2</td><td>188</td><td>6.25</td></tr><tr><th>9</th><td>0</td><td>197</td><td>6.25</td></tr><tr><th>10</th><td>0</td><td>399</td><td>6.25</td></tr><tr><th>11</th><td>5</td><td>562</td><td>6.25</td></tr><tr><th>&vellip;</th><td>&vellip;</td><td>&vellip;</td><td>&vellip;</td></tr></tbody></table>"
      ],
      "text/latex": [
       "\\begin{tabular}{r|ccc}\n",
       "\t& delay & distance & time\\\\\n",
       "\t\\hline\n",
       "\t& Int64 & Int64 & Float64\\\\\n",
       "\t\\hline\n",
       "\t1 & 14 & 405 & 0.0166667 \\\\\n",
       "\t2 & -11 & 370 & 5.5 \\\\\n",
       "\t3 & 5 & 389 & 5.66667 \\\\\n",
       "\t4 & -5 & 337 & 6.0 \\\\\n",
       "\t5 & 3 & 303 & 6.0 \\\\\n",
       "\t6 & 5 & 236 & 6.08333 \\\\\n",
       "\t7 & -4 & 405 & 6.16667 \\\\\n",
       "\t8 & -2 & 188 & 6.25 \\\\\n",
       "\t9 & 0 & 197 & 6.25 \\\\\n",
       "\t10 & 0 & 399 & 6.25 \\\\\n",
       "\t11 & 5 & 562 & 6.25 \\\\\n",
       "\t$\\dots$ & $\\dots$ & $\\dots$ & $\\dots$ \\\\\n",
       "\\end{tabular}\n"
      ],
      "text/plain": [
       "231083×3 DataFrame\n",
       "│ Row    │ delay │ distance │ time      │\n",
       "│        │ \u001b[90mInt64\u001b[39m │ \u001b[90mInt64\u001b[39m    │ \u001b[90mFloat64\u001b[39m   │\n",
       "├────────┼───────┼──────────┼───────────┤\n",
       "│ 1      │ 14    │ 405      │ 0.0166667 │\n",
       "⋮\n",
       "│ 231082 │ 125   │ 880      │ 22.8      │\n",
       "│ 231083 │ 29    │ 303      │ 22.95     │"
      ]
     },
     "execution_count": 28,
     "metadata": {},
     "output_type": "execute_result"
    }
   ],
   "source": [
    "flightscol |> DataFrame!"
   ]
  },
  {
   "cell_type": "code",
   "execution_count": 35,
   "metadata": {},
   "outputs": [],
   "source": [
    "s = Series(Mean(), Variance());"
   ]
  },
  {
   "cell_type": "code",
   "execution_count": 36,
   "metadata": {},
   "outputs": [],
   "source": [
    "for row in flightsind\n",
    "    fit!(s, row[:distance])\n",
    "end"
   ]
  },
  {
   "cell_type": "code",
   "execution_count": 37,
   "metadata": {},
   "outputs": [
    {
     "data": {
      "text/plain": [
       "Series\n",
       "├─ Mean: n=231083 | value=506.803\n",
       "└─ Variance: n=231083 | value=130055.0\n"
      ]
     },
     "execution_count": 37,
     "metadata": {},
     "output_type": "execute_result"
    }
   ],
   "source": [
    "s"
   ]
  },
  {
   "cell_type": "code",
   "execution_count": 38,
   "metadata": {},
   "outputs": [],
   "source": [
    "c = CovMatrix();"
   ]
  },
  {
   "cell_type": "code",
   "execution_count": 42,
   "metadata": {},
   "outputs": [
    {
     "data": {
      "text/plain": [
       "130055.360123533"
      ]
     },
     "execution_count": 42,
     "metadata": {},
     "output_type": "execute_result"
    }
   ],
   "source": [
    "var(flightscol.distance)"
   ]
  },
  {
   "cell_type": "code",
   "execution_count": 43,
   "metadata": {},
   "outputs": [
    {
     "data": {
      "text/plain": [
       "506.8025081896981"
      ]
     },
     "execution_count": 43,
     "metadata": {},
     "output_type": "execute_result"
    }
   ],
   "source": [
    "mean(flightscol.distance)"
   ]
  },
  {
   "cell_type": "code",
   "execution_count": 39,
   "metadata": {},
   "outputs": [],
   "source": [
    "for row in flightsind\n",
    "    fit!(c, zip(row[:distance], row[:delay]))\n",
    "end"
   ]
  },
  {
   "cell_type": "code",
   "execution_count": 40,
   "metadata": {},
   "outputs": [
    {
     "data": {
      "text/plain": [
       "CovMatrix: n=231083 | value=[130055.0 -590.544; -590.544 608.778]"
      ]
     },
     "execution_count": 40,
     "metadata": {},
     "output_type": "execute_result"
    }
   ],
   "source": [
    "c"
   ]
  },
  {
   "cell_type": "code",
   "execution_count": null,
   "metadata": {},
   "outputs": [],
   "source": []
  }
 ],
 "metadata": {
  "kernelspec": {
   "display_name": "Julia 1.5.0",
   "language": "julia",
   "name": "julia-1.5"
  },
  "language_info": {
   "file_extension": ".jl",
   "mimetype": "application/julia",
   "name": "julia",
   "version": "1.5.0"
  }
 },
 "nbformat": 4,
 "nbformat_minor": 4
}
